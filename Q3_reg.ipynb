{
 "cells": [
  {
   "cell_type": "code",
   "execution_count": 2,
   "id": "a14589a3",
   "metadata": {},
   "outputs": [],
   "source": [
    "import numpy as np\n",
    "import matplotlib.pyplot as plt\n",
    "import pandas as pd\n",
    "import sklearn"
   ]
  },
  {
   "cell_type": "code",
   "execution_count": 3,
   "id": "7fba4c2d",
   "metadata": {},
   "outputs": [
    {
     "name": "stdout",
     "output_type": "stream",
     "text": [
      "[*********************100%%**********************]  1 of 1 completed\n"
     ]
    }
   ],
   "source": [
    "# import coin datas\n",
    "import yfinance as yf\n",
    "xmr = yf.Ticker(\"XMR-USD\")\n",
    "df_xmr = yf.download(tickers = \"XMR-USD\",\n",
    "                     start = \"2022-09-07\",\n",
    "                     end = \"2023-09-09\" , \n",
    "                     interval = \"1d\")"
   ]
  },
  {
   "cell_type": "code",
   "execution_count": 4,
   "id": "a2705d51",
   "metadata": {},
   "outputs": [
    {
     "data": {
      "text/html": [
       "<div>\n",
       "<style scoped>\n",
       "    .dataframe tbody tr th:only-of-type {\n",
       "        vertical-align: middle;\n",
       "    }\n",
       "\n",
       "    .dataframe tbody tr th {\n",
       "        vertical-align: top;\n",
       "    }\n",
       "\n",
       "    .dataframe thead th {\n",
       "        text-align: right;\n",
       "    }\n",
       "</style>\n",
       "<table border=\"1\" class=\"dataframe\">\n",
       "  <thead>\n",
       "    <tr style=\"text-align: right;\">\n",
       "      <th></th>\n",
       "      <th>Open</th>\n",
       "      <th>High</th>\n",
       "      <th>Low</th>\n",
       "      <th>Close</th>\n",
       "      <th>Adj Close</th>\n",
       "      <th>Volume</th>\n",
       "    </tr>\n",
       "    <tr>\n",
       "      <th>Date</th>\n",
       "      <th></th>\n",
       "      <th></th>\n",
       "      <th></th>\n",
       "      <th></th>\n",
       "      <th></th>\n",
       "      <th></th>\n",
       "    </tr>\n",
       "  </thead>\n",
       "  <tbody>\n",
       "    <tr>\n",
       "      <th>2022-09-07</th>\n",
       "      <td>144.950851</td>\n",
       "      <td>152.059586</td>\n",
       "      <td>141.929382</td>\n",
       "      <td>149.232574</td>\n",
       "      <td>149.232574</td>\n",
       "      <td>98033777</td>\n",
       "    </tr>\n",
       "    <tr>\n",
       "      <th>2022-09-08</th>\n",
       "      <td>149.233353</td>\n",
       "      <td>152.426529</td>\n",
       "      <td>147.767471</td>\n",
       "      <td>152.175339</td>\n",
       "      <td>152.175339</td>\n",
       "      <td>82798120</td>\n",
       "    </tr>\n",
       "    <tr>\n",
       "      <th>2022-09-09</th>\n",
       "      <td>152.175949</td>\n",
       "      <td>159.720169</td>\n",
       "      <td>151.765671</td>\n",
       "      <td>159.720169</td>\n",
       "      <td>159.720169</td>\n",
       "      <td>103665193</td>\n",
       "    </tr>\n",
       "    <tr>\n",
       "      <th>2022-09-10</th>\n",
       "      <td>160.002502</td>\n",
       "      <td>161.677124</td>\n",
       "      <td>157.358948</td>\n",
       "      <td>157.581055</td>\n",
       "      <td>157.581055</td>\n",
       "      <td>76903926</td>\n",
       "    </tr>\n",
       "    <tr>\n",
       "      <th>2022-09-11</th>\n",
       "      <td>157.612946</td>\n",
       "      <td>159.213715</td>\n",
       "      <td>154.800797</td>\n",
       "      <td>158.860352</td>\n",
       "      <td>158.860352</td>\n",
       "      <td>70199114</td>\n",
       "    </tr>\n",
       "  </tbody>\n",
       "</table>\n",
       "</div>"
      ],
      "text/plain": [
       "                  Open        High         Low       Close   Adj Close  \\\n",
       "Date                                                                     \n",
       "2022-09-07  144.950851  152.059586  141.929382  149.232574  149.232574   \n",
       "2022-09-08  149.233353  152.426529  147.767471  152.175339  152.175339   \n",
       "2022-09-09  152.175949  159.720169  151.765671  159.720169  159.720169   \n",
       "2022-09-10  160.002502  161.677124  157.358948  157.581055  157.581055   \n",
       "2022-09-11  157.612946  159.213715  154.800797  158.860352  158.860352   \n",
       "\n",
       "               Volume  \n",
       "Date                   \n",
       "2022-09-07   98033777  \n",
       "2022-09-08   82798120  \n",
       "2022-09-09  103665193  \n",
       "2022-09-10   76903926  \n",
       "2022-09-11   70199114  "
      ]
     },
     "execution_count": 4,
     "metadata": {},
     "output_type": "execute_result"
    }
   ],
   "source": [
    "df_xmr.head()"
   ]
  },
  {
   "cell_type": "code",
   "execution_count": 25,
   "id": "f8ff7ccd",
   "metadata": {},
   "outputs": [],
   "source": [
    "y = []\n",
    "for i in range(1,len(df_xmr)) : \n",
    "    y.append(df_xmr.iloc[i][\"Close\"] > df_xmr.iloc[i-1][\"Close\"])\n",
    "from sklearn.linear_model import LinearRegression\n",
    "from sklearn.model_selection import train_test_split\n",
    "from sklearn.metrics import f1_score , recall_score , precision_score\n",
    "reg = LinearRegression()"
   ]
  },
  {
   "cell_type": "code",
   "execution_count": 36,
   "id": "4b558a41",
   "metadata": {},
   "outputs": [
    {
     "name": "stdout",
     "output_type": "stream",
     "text": [
      "[*********************100%%**********************]  1 of 1 completed\n"
     ]
    }
   ],
   "source": [
    "df_xmr_test = yf.download(tickers = \"XMR-USD\",\n",
    "                     start = \"2023-09-04\",\n",
    "                     end = \"2023-10-07\" , \n",
    "                     interval = \"1d\")\n",
    "y_test = []\n",
    "for i in range(len(df_xmr_test)) : \n",
    "    y_test.append(df_xmr_test.iloc[i][\"Close\"] > df_xmr_test.iloc[i-1][\"Close\"])"
   ]
  },
  {
   "cell_type": "code",
   "execution_count": 53,
   "id": "ca2b70be",
   "metadata": {},
   "outputs": [
    {
     "name": "stdout",
     "output_type": "stream",
     "text": [
      "day : 1\n",
      "train -> f1 : 0.6972010178117048 , recall : 1.0 , precision : 0.53515625\n",
      "validation -> f1 : 0.7428571428571429 , recall : 1.0 , precision : 0.5909090909090909\n",
      "test -> f1 : 0.7450980392156863 , recall : 1.0 , precision : 0.59375\n",
      "\n",
      "day : 2\n",
      "train -> f1 : 0.7253333333333333 , recall : 1.0 , precision : 0.5690376569037657\n",
      "validation -> f1 : 0.7692307692307693 , recall : 1.0 , precision : 0.625\n",
      "test -> f1 : 0.76 , recall : 1.0 , precision : 0.6129032258064516\n",
      "\n",
      "day : 3\n",
      "train -> f1 : 0.7611548556430447 , recall : 1.0 , precision : 0.614406779661017\n",
      "validation -> f1 : 0.6832298136645962 , recall : 1.0 , precision : 0.5188679245283019\n",
      "test -> f1 : 0.7499999999999999 , recall : 1.0 , precision : 0.6\n",
      "\n",
      "day : 4\n",
      "train -> f1 : 0.7368421052631579 , recall : 1.0 , precision : 0.5833333333333334\n",
      "validation -> f1 : 0.7272727272727273 , recall : 1.0 , precision : 0.5714285714285714\n",
      "test -> f1 : 0.7391304347826086 , recall : 1.0 , precision : 0.5862068965517241\n",
      "\n",
      "day : 5\n",
      "train -> f1 : 0.731578947368421 , recall : 1.0 , precision : 0.5767634854771784\n",
      "validation -> f1 : 0.7453416149068323 , recall : 1.0 , precision : 0.594059405940594\n",
      "test -> f1 : 0.7272727272727273 , recall : 1.0 , precision : 0.5714285714285714\n",
      "\n",
      "day : 6\n",
      "train -> f1 : 0.7277628032345014 , recall : 1.0 , precision : 0.5720338983050848\n",
      "validation -> f1 : 0.7682926829268292 , recall : 1.0 , precision : 0.6237623762376238\n",
      "test -> f1 : 0.7441860465116279 , recall : 1.0 , precision : 0.5925925925925926\n",
      "\n",
      "day : 7\n",
      "train -> f1 : 0.7419354838709677 , recall : 1.0 , precision : 0.5897435897435898\n",
      "validation -> f1 : 0.7692307692307693 , recall : 1.0 , precision : 0.625\n",
      "test -> f1 : 0.761904761904762 , recall : 1.0 , precision : 0.6153846153846154\n",
      "\n",
      "day : 8\n",
      "train -> f1 : 0.7433155080213903 , recall : 1.0 , precision : 0.5914893617021276\n",
      "validation -> f1 : 0.7295597484276729 , recall : 1.0 , precision : 0.5742574257425742\n",
      "test -> f1 : 0.7804878048780487 , recall : 1.0 , precision : 0.64\n",
      "\n",
      "day : 9\n",
      "train -> f1 : 0.7419354838709677 , recall : 1.0 , precision : 0.5897435897435898\n",
      "validation -> f1 : 0.7283950617283951 , recall : 1.0 , precision : 0.5728155339805825\n",
      "test -> f1 : 0.7692307692307693 , recall : 1.0 , precision : 0.625\n",
      "\n",
      "day : 10\n",
      "train -> f1 : 0.703601108033241 , recall : 1.0 , precision : 0.5427350427350427\n",
      "validation -> f1 : 0.8070175438596492 , recall : 1.0 , precision : 0.6764705882352942\n",
      "test -> f1 : 0.7567567567567568 , recall : 1.0 , precision : 0.6086956521739131\n",
      "\n",
      "day : 11\n",
      "train -> f1 : 0.7419354838709677 , recall : 1.0 , precision : 0.5897435897435898\n",
      "validation -> f1 : 0.7160493827160493 , recall : 1.0 , precision : 0.5576923076923077\n",
      "test -> f1 : 0.7428571428571429 , recall : 1.0 , precision : 0.5909090909090909\n",
      "\n",
      "day : 12\n",
      "train -> f1 : 0.7262872628726287 , recall : 1.0 , precision : 0.5702127659574469\n",
      "validation -> f1 : 0.7469879518072289 , recall : 1.0 , precision : 0.5961538461538461\n",
      "test -> f1 : 0.7272727272727273 , recall : 1.0 , precision : 0.5714285714285714\n",
      "\n",
      "day : 13\n",
      "train -> f1 : 0.7356948228882834 , recall : 1.0 , precision : 0.5818965517241379\n",
      "validation -> f1 : 0.7349397590361446 , recall : 1.0 , precision : 0.580952380952381\n",
      "test -> f1 : 0.7499999999999999 , recall : 1.0 , precision : 0.6\n",
      "\n",
      "day : 14\n",
      "train -> f1 : 0.7391304347826086 , recall : 1.0 , precision : 0.5862068965517241\n",
      "validation -> f1 : 0.7239263803680982 , recall : 1.0 , precision : 0.5673076923076923\n",
      "test -> f1 : 0.7333333333333334 , recall : 1.0 , precision : 0.5789473684210527\n",
      "\n"
     ]
    }
   ],
   "source": [
    "n_days = 15\n",
    "for k in range(1,n_days) : \n",
    "    x = []\n",
    "    x_t = []\n",
    "    for i in range(k,len(df_xmr)) : \n",
    "        f = []\n",
    "        for j in range(k) : \n",
    "            f.append(df_xmr.iloc[i-j][\"Close\"])\n",
    "        x.append(f)\n",
    "    for i in range(k,len(df_xmr_test)) : \n",
    "        f_t = []\n",
    "        for j in range(k) : \n",
    "            f_t.append(df_xmr_test.iloc[i-j][\"Close\"])\n",
    "        x_t.append(f_t)\n",
    "    x_tr , x_val , y_tr , y_val = train_test_split(x,y[k-1:],test_size = 0.3 , random_state = 42)\n",
    "    reg.fit(x_tr , y_tr)\n",
    "    # predict train data \n",
    "    y_1_pred = reg.predict(x_tr)\n",
    "    y_1_pred = y_1_pred > 0\n",
    "    f = f1_score(y_true=y_tr , y_pred = y_1_pred)\n",
    "    r = recall_score(y_true=y_tr , y_pred = y_1_pred)\n",
    "    p = precision_score(y_true=y_tr , y_pred = y_1_pred)\n",
    "    # predict valiadtion data\n",
    "    y_pred = reg.predict(x_val)\n",
    "    y_pred = y_pred > 0\n",
    "    f_sc = f1_score(y_true=y_val , y_pred = y_pred)\n",
    "    r_sc = recall_score(y_true=y_val , y_pred = y_pred)\n",
    "    p_sc = precision_score(y_true=y_val , y_pred = y_pred)\n",
    "    # predict test data\n",
    "    y_t = reg.predict(x_t)\n",
    "    y_t = y_t > 0\n",
    "    f_t = f1_score(y_true=y_test[k:] , y_pred = y_t )\n",
    "    r_t = recall_score(y_true=y_test[k:] , y_pred = y_t )\n",
    "    p_t = precision_score(y_true=y_test[k:] , y_pred = y_t )\n",
    "    print(f\"day : {k}\")\n",
    "    print(f\"train -> f1 : {f} , recall : {r} , precision : {p}\")\n",
    "    print(f\"validation -> f1 : {f_sc} , recall : {r_sc} , precision : {p_sc}\")\n",
    "    print(f\"test -> f1 : {f_t} , recall : {r_t} , precision : {p_t}\\n\")"
   ]
  },
  {
   "cell_type": "code",
   "execution_count": 57,
   "id": "fc18ac6e",
   "metadata": {},
   "outputs": [],
   "source": [
    "best_day = 10"
   ]
  },
  {
   "cell_type": "code",
   "execution_count": 63,
   "id": "df5de6da",
   "metadata": {},
   "outputs": [
    {
     "name": "stdout",
     "output_type": "stream",
     "text": [
      "day : 10\n",
      "test -> f1 : 0.7567567567567568 , recall : 1.0 , precision : 0.6086956521739131\n",
      "\n"
     ]
    }
   ],
   "source": [
    "x_t = []\n",
    "x = []\n",
    "for i in range(best_day,len(df_xmr)) : \n",
    "    f = []\n",
    "    for j in range(best_day) : \n",
    "        f.append(df_xmr.iloc[i-j][\"Close\"])\n",
    "    x.append(f)\n",
    "for i in range(best_day,len(df_xmr_test)) : \n",
    "        f_t = []\n",
    "        for j in range(best_day) : \n",
    "            f_t.append(df_xmr_test.iloc[i-j][\"Close\"])\n",
    "        x_t.append(f_t)\n",
    "x_tr , x_val , y_tr , y_val = train_test_split(x,y[best_day-1:],test_size = 0.3 , random_state = 42)\n",
    "reg.fit(x_tr , y_tr)\n",
    "y_t = reg.predict(x_t)\n",
    "y_t = y_t > 0\n",
    "f_t = f1_score(y_true=y_test[best_day:] , y_pred = y_t )\n",
    "r_t = recall_score(y_true=y_test[best_day:] , y_pred = y_t )\n",
    "p_t = precision_score(y_true=y_test[best_day:] , y_pred = y_t )\n",
    "print(f\"day : {best_day}\")\n",
    "print(f\"test -> f1 : {f_t} , recall : {r_t} , precision : {p_t}\\n\")"
   ]
  }
 ],
 "metadata": {
  "kernelspec": {
   "display_name": "Python 3 (ipykernel)",
   "language": "python",
   "name": "python3"
  },
  "language_info": {
   "codemirror_mode": {
    "name": "ipython",
    "version": 3
   },
   "file_extension": ".py",
   "mimetype": "text/x-python",
   "name": "python",
   "nbconvert_exporter": "python",
   "pygments_lexer": "ipython3",
   "version": "3.10.7"
  }
 },
 "nbformat": 4,
 "nbformat_minor": 5
}
